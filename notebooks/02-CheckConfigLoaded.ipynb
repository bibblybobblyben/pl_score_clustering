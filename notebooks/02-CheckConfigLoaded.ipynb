{
 "cells": [
  {
   "cell_type": "markdown",
   "id": "0",
   "metadata": {},
   "source": [
    "Check plots are created with the default formatting we want to enforce in the package"
   ]
  },
  {
   "cell_type": "code",
   "execution_count": null,
   "id": "1",
   "metadata": {},
   "outputs": [],
   "source": [
    "import pinpointlearning as pl\n",
    "import matplotlib.pyplot as plt\n",
    "import pandas as pd\n",
    "import numpy as np"
   ]
  },
  {
   "cell_type": "code",
   "execution_count": null,
   "id": "2",
   "metadata": {},
   "outputs": [],
   "source": [
    "x = np.random.normal(0,1,100)\n",
    "y = np.random.uniform(0,10,100)\n",
    "cols = np.linspace(0,1,100)"
   ]
  },
  {
   "cell_type": "markdown",
   "id": "3",
   "metadata": {},
   "source": [
    "Should generate a scatter plot with light blue points, major and minor ticks on the axes and SciencePlots applied to fonts etc"
   ]
  },
  {
   "cell_type": "code",
   "execution_count": null,
   "id": "4",
   "metadata": {},
   "outputs": [],
   "source": [
    "plt.scatter(x,y)"
   ]
  },
  {
   "cell_type": "markdown",
   "id": "5",
   "metadata": {},
   "source": [
    "Should create two lines cycling through the default colours (light blue then what I'm calling coral)"
   ]
  },
  {
   "cell_type": "code",
   "execution_count": null,
   "id": "6",
   "metadata": {},
   "outputs": [],
   "source": [
    "plt.plot([0,1],[1,1], label = \"blue\")\n",
    "plt.plot([0,1],[0.2,1.4], label = \"coral\")\n",
    "plt.xlabel(\"an axis\")\n",
    "plt.legend()\n",
    "plt.ylabel(\"another axis\")"
   ]
  },
  {
   "cell_type": "markdown",
   "id": "7",
   "metadata": {},
   "source": [
    "Should create scatter points coloured on a gradient from light blue to coral with white in between"
   ]
  },
  {
   "cell_type": "code",
   "execution_count": null,
   "id": "8",
   "metadata": {},
   "outputs": [],
   "source": [
    "plt.scatter(x,y, c = cols, cmap = \"hccmap\")"
   ]
  },
  {
   "cell_type": "markdown",
   "id": "9",
   "metadata": {},
   "source": [
    "Should create a smoothly transitioning colourmap with coral on the left and light blue on the right, with a colour bar. Should not use the default viridis and should recognise the newly named \"hccmap\""
   ]
  },
  {
   "cell_type": "code",
   "execution_count": null,
   "id": "10",
   "metadata": {},
   "outputs": [],
   "source": [
    "x = np.array([list(range(0,100)) for a in range(100)])\n",
    "\n",
    "val = np.exp(-x/100)\n",
    "#plt.plot(x, val = \"my_cmap\")\n",
    "\n",
    "plt.imshow(val, cmap = \"hccmap\")#, vmin = 0, vmax=1)\n",
    "plt.colorbar()"
   ]
  },
  {
   "cell_type": "code",
   "execution_count": null,
   "id": "11",
   "metadata": {},
   "outputs": [],
   "source": []
  }
 ],
 "metadata": {
  "kernelspec": {
   "display_name": "Python 3 (ipykernel)",
   "language": "python",
   "name": "python3"
  },
  "language_info": {
   "codemirror_mode": {
    "name": "ipython",
    "version": 3
   },
   "file_extension": ".py",
   "mimetype": "text/x-python",
   "name": "python",
   "nbconvert_exporter": "python",
   "pygments_lexer": "ipython3",
   "version": "3.10.12"
  }
 },
 "nbformat": 4,
 "nbformat_minor": 5
}
