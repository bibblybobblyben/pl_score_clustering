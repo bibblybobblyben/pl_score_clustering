{
 "cells": [
  {
   "cell_type": "code",
   "execution_count": null,
   "id": "0",
   "metadata": {},
   "outputs": [],
   "source": [
    "import pandas as pd\n",
    "import json\n",
    "import numpy as np"
   ]
  },
  {
   "cell_type": "code",
   "execution_count": null,
   "id": "1",
   "metadata": {},
   "outputs": [],
   "source": [
    "df = pd.read_csv(\"../data/LargeDataSet13_HigherExamsWithClassAndSchoolsAvailable.csv\")"
   ]
  },
  {
   "cell_type": "code",
   "execution_count": null,
   "id": "2",
   "metadata": {},
   "outputs": [],
   "source": [
    "mask = [\"date\" not in a.lower() for a in df.columns]\n",
    "df = df[df.columns[mask]]"
   ]
  },
  {
   "cell_type": "code",
   "execution_count": null,
   "id": "3",
   "metadata": {},
   "outputs": [],
   "source": [
    "col_markers = np.arange(0,len(df.columns))[[\"Name\" in a for a in df.columns]].tolist()\n",
    "col_markers.append(len(df.columns)+1)"
   ]
  },
  {
   "cell_type": "code",
   "execution_count": null,
   "id": "4",
   "metadata": {},
   "outputs": [],
   "source": [
    "col_markers"
   ]
  },
  {
   "cell_type": "code",
   "execution_count": null,
   "id": "5",
   "metadata": {},
   "outputs": [],
   "source": [
    "df.columns"
   ]
  },
  {
   "cell_type": "code",
   "execution_count": null,
   "id": "6",
   "metadata": {},
   "outputs": [],
   "source": [
    "\n",
    "entries = []\n",
    "data = []\n",
    "n_qs = 0\n",
    "for i, ind in enumerate(col_markers[1:]):\n",
    "    vals = df.loc[0].values[col_markers[i]+1:ind+1]\n",
    "\n",
    "    if i == 7:\n",
    "        maxadd = np.array(df.loc[0].values[col_markers[i]+1:ind], dtype=int).tolist()\n",
    "        actual_add = [str(a) for a in df.loc[1].values[col_markers[i]+1:ind] ]\n",
    "    else:\n",
    "        maxadd = np.array(df.loc[1].values[col_markers[i]+1:ind], dtype=int).tolist()\n",
    "        actual_add = [str(a) for a in df.loc[0].values[col_markers[i]+1:ind]]\n",
    "    \n",
    "    entries.append({\n",
    "        \"maxes\":maxadd,\n",
    "        \"qtypes\": [str(a) for a in df.loc[4].values[col_markers[i]+1:ind]],\n",
    "        \"difficulty\":[int(a) for a in df.loc[3].values[col_markers[i]+1:ind]],\n",
    "        \"actual\":actual_add,\n",
    "        \"exam_id\":i, \n",
    "        #\"results\":np.nan_to_num(np.array(df.to_numpy()[7:,:][:,col_markers[i]+1:ind], dtype = float)) \n",
    "    })\n",
    "    scores = np.array(df.to_numpy()[7:,:][:,col_markers[i]+1:ind], dtype = float)\n",
    "\n",
    "    n_qs += scores.shape[1]\n",
    "\n",
    "        \n",
    "        \n",
    "        \n",
    "    \n",
    "    np.save( f\"../data/processed/scores/Exam_{i}.npy\", scores)\n",
    "    binarised = np.zeros(scores.shape)\n",
    "    for j in range(len(maxadd)):\n",
    "        binarised[:,j] = scores[:,j]/maxadd[j]\n",
    "    np.save( f\"../data/processed/binarised/Exam_{i}.npy\", binarised)"
   ]
  },
  {
   "cell_type": "code",
   "execution_count": null,
   "id": "7",
   "metadata": {},
   "outputs": [],
   "source": [
    "with open(\"../data/Processed_Exams.json\", \"w\") as f:\n",
    "    json.dump(entries, f)"
   ]
  },
  {
   "cell_type": "code",
   "execution_count": null,
   "id": "8",
   "metadata": {},
   "outputs": [],
   "source": [
    "import numpy as np"
   ]
  },
  {
   "cell_type": "code",
   "execution_count": null,
   "id": "9",
   "metadata": {},
   "outputs": [],
   "source": [
    "mask_clean = np.ones(len(scores))\n",
    "with open(\"../data/Processed_Exams.json\", \"r\") as f:\n",
    "    config = json.load(f)\n",
    "\n",
    "runtot = 0\n",
    "for i in range(13):\n",
    "    maxadd = config[i][\"maxes\"]\n",
    "    scores = np.load(f\"../data/processed/scores/Exam_{i}.npy\")\n",
    "    mask = np.zeros(scores.shape)\n",
    "    for j, ms in enumerate(maxadd):\n",
    "        mask[:,j] = (scores[:,j] <=ms) | (np.isnan(scores[:,j]) )\n",
    "    runtot+=len(maxadd)\n",
    "    np.save(f\"../data/processed/masks/Exam_{i}_Mask.npy\",np.all(mask, axis=1))\n",
    "    mask_clean = mask_clean * np.all(mask, axis=1)\n",
    "    print(\"exam\", np.sum(np.all(mask, axis=1) & (~np.isnan(scores[:,0]))))"
   ]
  },
  {
   "cell_type": "code",
   "execution_count": null,
   "id": "10",
   "metadata": {},
   "outputs": [],
   "source": [
    "np.save(\"../data/outputs/CleanMask.npy\", arr = mask_clean)"
   ]
  },
  {
   "cell_type": "code",
   "execution_count": null,
   "id": "11",
   "metadata": {},
   "outputs": [],
   "source": []
  }
 ],
 "metadata": {
  "kernelspec": {
   "display_name": "Python 3 (ipykernel)",
   "language": "python",
   "name": "python3"
  },
  "language_info": {
   "codemirror_mode": {
    "name": "ipython",
    "version": 3
   },
   "file_extension": ".py",
   "mimetype": "text/x-python",
   "name": "python",
   "nbconvert_exporter": "python",
   "pygments_lexer": "ipython3",
   "version": "3.10.12"
  }
 },
 "nbformat": 4,
 "nbformat_minor": 5
}
